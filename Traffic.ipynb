{
 "cells": [
  {
   "cell_type": "markdown",
   "metadata": {},
   "source": [
    "# Traffic & Transport Dataset\n",
    "\n",
    "**Programming for Data Analysis Project 2020**\n",
    "\n",
    "*Development & simulation of a dataset that would form part of a larger traffic & transport study for Galway City.*\n",
    "***"
   ]
  },
  {
   "cell_type": "markdown",
   "metadata": {},
   "source": [
    "## 1.0 Introduction\n",
    "\n",
    "The main objective of this project is to a take real-world phenomenon and rather than collecting real-world data or using existing data available for this phenomenon, the dataset should be fully modelled or synthesised.\n",
    "\n",
    "For the real-world phenomenon I have decided to look traffic & transport within Galway City. Traffic conjestion is a major issue for Galway, with slow moving traffic & long delays being a regular occurance throughout the city and surrounding areas, particularly at peak times.\n",
    "\n",
    "There are a number of features & characteristics about Galway City & the surrounding areas that all contribute to the major traffic & transport issues the city faces:\n",
    "\n",
    "- Ireland has a very car-centric culture and a over dependence on private vehicles. Public transport, walking & cycling are not as popular as means of travel.\n",
    "- Galway city is constricted between the Galway Bay to the south & Lough Corrib to the north. The city is divided east / west by the River Corrib, with three principal river crossing which experience heavy traffic flows.   \n",
    "- The suburban nature of much of the residental developments and the wide distribution of jobs in central & non-central locations. e.g large densities of residental developements are located to the west of the city while a lot of the major businesses & employers are located to the east of the city.\n",
    "\n",
    "Please refer to the Galway Transport Strategy Report [1] for further information on Galway's traffic & transport issues.\n",
    "\n",
    "![GTS Map](https://github.com/PaulSweeney89/ProgDA-Project2020/blob/main/Images/GTS%20Map.PNG?raw=true)\n",
    "\n",
    "**Figure 1** - Galway City & Boundary - [Galway Transport Strategy Report](https://www.galwaycity.ie/uploads/downloads/news_items/Traffic-Transport/GTS/GTS%20Executive%20Summary%20Report%20-%20English.pdf)"
   ]
  },
  {
   "cell_type": "markdown",
   "metadata": {},
   "source": [
    "## 2.0 Traffic & Transport Data Collection\n",
    "\n",
    "Traffic & transport surveys involve the collection of data that will accurately reflect the real-world traffic situation & conditions within the study area. \n",
    "\n",
    "There are numerous methods for conducting traffic surveys & studies and many areas from which data can be collected and analysed;\n",
    "- Traffic volume data can be collected manually by counting the number & category of vehicles passing a particular location on a road over a certain period of time. \n",
    "- Video analysis & more modern artificial intelligence collection systems can be implemented at junctions or at sections of road, where data on speed, travel time, time-gaps, category of vehicle etc. can be easily recorded and obtained. \n",
    "- Surveys & questionnaires can also form part of traffic & transport suveys & studies, identifying travel behaviours, journey times, modes of transport for various demographics, age groups etc. \n",
    "\n",
    "Studies such as the National Travel Survey (NTS) or the Census 2016 Place of Work, School or College (POWSCAR), involved conducting interviews and questionnaires regarding the travel behaviour of respondents.\n",
    "Data collected included answers to common demographic questions such as age, sex, education, etc. along with travel & transport specific questions, journey purpose, modes of travel, distance travelled etc. \n",
    "\n",
    "Reports such as the N6 Galway City Ring Road Design Report, used existing traffic volume data to compare traffic volumes to current road capacities, it includes models developed to provide a prediction of future traffic conditions for Galway's existing roads and also a comparison where new & improved road infrastructure works could be introduced.  "
   ]
  },
  {
   "cell_type": "markdown",
   "metadata": {},
   "source": [
    "## 3.0 Simulating a Traffic & Transport Dataset\n",
    "\n",
    "For simulating the dataset and to form the basis of this project, a number of existing travel, traffic and transport surveys for both Galway & Ireland were reviewed to help establish which varaiables to include within the dataset and to determine approximate values & the distribution of values for each of the variables.\n",
    "\n",
    "This dataset is to be based off the data collected from a hypothetical survey conducted on 200 residents regarding traffic and travel behaviours within Galway City, the data will be loosely based on information & data found from existing traffic & transport surveys."
   ]
  },
  {
   "cell_type": "code",
   "execution_count": 1,
   "metadata": {},
   "outputs": [],
   "source": [
    "# Import Python Libaries\n",
    "import pandas as pd\n",
    "import numpy as np\n",
    "import matplotlib.pyplot as plt\n",
    "import seaborn as sns\n",
    "import random\n",
    "import datetime\n",
    "\n",
    "# set plot style\n",
    "plt.style.use(\"ggplot\")\n",
    "\n",
    "# Increasing the size of the output plots\n",
    "plt.rcParams[\"figure.figsize\"] = (10,7)"
   ]
  },
  {
   "cell_type": "markdown",
   "metadata": {},
   "source": [
    "### 3.1 Resident's Gender & Age\n",
    "\n",
    "Both the National Travel Survey 2019 (NTS) & the Census 2016 Place of Work, School or College (POWSCAR) included data regarding the demographic of the survey's respondents, i.e gender & age.\n",
    "\n",
    "The gender of those surveyed was set as 48.0% males to 52.0% females, distributed as per Census 2016 Population Data for Galway City.\n",
    "\n",
    "Population of males in Galway City 37800 males. \n",
    "\n",
    "Population of females in Galway City 40868 females. \n",
    "\n",
    "[statbank.cso.ie](https://statbank.cso.ie/px/pxeirestat/Statire/SelectVarVal/Define.asp?MainTable=EY004&TabStrip=Select&PLanguage=0&FF=1)"
   ]
  },
  {
   "cell_type": "code",
   "execution_count": 2,
   "metadata": {},
   "outputs": [
    {
     "name": "stdout",
     "output_type": "stream",
     "text": [
      "Females Count = 106   Males Count =  94\n"
     ]
    },
    {
     "data": {
      "image/png": "[encoded data removed]",
      "text/plain": [
       "<Figure size 720x504 with 1 Axes>"
      ]
     },
     "metadata": {},
     "output_type": "display_data"
    }
   ],
   "source": [
    "sample_size = 200\n",
    "\n",
    "g = ['Male', 'Female']\n",
    "gender = np.random.choice(g, size=sample_size, p=(0.48, 0.52))\n",
    "\n",
    "males_count = gender.tolist().count('Male')\n",
    "females_count = gender.tolist().count('Female')\n",
    "print(\"Females Count =\", females_count, \" \",  \"Males Count = \", males_count)\n",
    "\n",
    "\n",
    "# Histogram plot of Galway City gender distribution\n",
    "plt.title(\"Histogram of Gender Distribution\")\n",
    "plt.hist(gender, alpha=0.3)\n",
    "plt.show()"
   ]
  },
  {
   "cell_type": "markdown",
   "metadata": {},
   "source": [
    "For the purpose of this project the range of ages of those surveyed was selected as a uniform distribution of ages in the range of 18 up to 65."
   ]
  },
  {
   "cell_type": "code",
   "execution_count": 3,
   "metadata": {
    "scrolled": false
   },
   "outputs": [
    {
     "data": {
      "image/png": "[encoded data removed]",
      "text/plain": [
       "<Figure size 720x504 with 1 Axes>"
      ]
     },
     "metadata": {},
     "output_type": "display_data"
    }
   ],
   "source": [
    "age = np.random.randint(low=18, high=66, size=sample_size)\n",
    "\n",
    "# Uniform distribution plot of range of ages\n",
    "plt.title(\"Uniform Age Distribution\")\n",
    "sns.distplot(age, kde=False, bins=8, hist_kws=dict(edgecolor=\"grey\", linewidth=1))\n",
    "plt.show()"
   ]
  },
  {
   "cell_type": "markdown",
   "metadata": {},
   "source": [
    "#### Age Distribution Output\n",
    "\n",
    "Pandas DataFrame output of the Uniform Distributed Age values generated."
   ]
  },
  {
   "cell_type": "code",
   "execution_count": 4,
   "metadata": {
    "scrolled": true
   },
   "outputs": [
    {
     "name": "stdout",
     "output_type": "stream",
     "text": [
      "Mean Age =  41.0\n"
     ]
    },
    {
     "data": {
      "text/html": [
       "<div>\n",
       "<style scoped>\n",
       "    .dataframe tbody tr th:only-of-type {\n",
       "        vertical-align: middle;\n",
       "    }\n",
       "\n",
       "    .dataframe tbody tr th {\n",
       "        vertical-align: top;\n",
       "    }\n",
       "\n",
       "    .dataframe thead th {\n",
       "        text-align: right;\n",
       "    }\n",
       "</style>\n",
       "<table border=\"1\" class=\"dataframe\">\n",
       "  <thead>\n",
       "    <tr style=\"text-align: right;\">\n",
       "      <th></th>\n",
       "      <th>Age</th>\n",
       "      <th>Count</th>\n",
       "    </tr>\n",
       "  </thead>\n",
       "  <tbody>\n",
       "    <tr>\n",
       "      <th>26</th>\n",
       "      <td>18</td>\n",
       "      <td>8</td>\n",
       "    </tr>\n",
       "    <tr>\n",
       "      <th>45</th>\n",
       "      <td>19</td>\n",
       "      <td>1</td>\n",
       "    </tr>\n",
       "    <tr>\n",
       "      <th>3</th>\n",
       "      <td>20</td>\n",
       "      <td>2</td>\n",
       "    </tr>\n",
       "    <tr>\n",
       "      <th>22</th>\n",
       "      <td>21</td>\n",
       "      <td>3</td>\n",
       "    </tr>\n",
       "    <tr>\n",
       "      <th>34</th>\n",
       "      <td>22</td>\n",
       "      <td>5</td>\n",
       "    </tr>\n",
       "    <tr>\n",
       "      <th>40</th>\n",
       "      <td>23</td>\n",
       "      <td>3</td>\n",
       "    </tr>\n",
       "    <tr>\n",
       "      <th>12</th>\n",
       "      <td>24</td>\n",
       "      <td>6</td>\n",
       "    </tr>\n",
       "    <tr>\n",
       "      <th>19</th>\n",
       "      <td>25</td>\n",
       "      <td>8</td>\n",
       "    </tr>\n",
       "    <tr>\n",
       "      <th>41</th>\n",
       "      <td>26</td>\n",
       "      <td>5</td>\n",
       "    </tr>\n",
       "    <tr>\n",
       "      <th>11</th>\n",
       "      <td>27</td>\n",
       "      <td>3</td>\n",
       "    </tr>\n",
       "    <tr>\n",
       "      <th>24</th>\n",
       "      <td>28</td>\n",
       "      <td>5</td>\n",
       "    </tr>\n",
       "    <tr>\n",
       "      <th>20</th>\n",
       "      <td>29</td>\n",
       "      <td>3</td>\n",
       "    </tr>\n",
       "    <tr>\n",
       "      <th>27</th>\n",
       "      <td>30</td>\n",
       "      <td>6</td>\n",
       "    </tr>\n",
       "    <tr>\n",
       "      <th>13</th>\n",
       "      <td>31</td>\n",
       "      <td>5</td>\n",
       "    </tr>\n",
       "    <tr>\n",
       "      <th>18</th>\n",
       "      <td>32</td>\n",
       "      <td>4</td>\n",
       "    </tr>\n",
       "    <tr>\n",
       "      <th>9</th>\n",
       "      <td>33</td>\n",
       "      <td>6</td>\n",
       "    </tr>\n",
       "    <tr>\n",
       "      <th>5</th>\n",
       "      <td>34</td>\n",
       "      <td>5</td>\n",
       "    </tr>\n",
       "    <tr>\n",
       "      <th>36</th>\n",
       "      <td>35</td>\n",
       "      <td>1</td>\n",
       "    </tr>\n",
       "    <tr>\n",
       "      <th>15</th>\n",
       "      <td>36</td>\n",
       "      <td>3</td>\n",
       "    </tr>\n",
       "    <tr>\n",
       "      <th>29</th>\n",
       "      <td>37</td>\n",
       "      <td>2</td>\n",
       "    </tr>\n",
       "    <tr>\n",
       "      <th>43</th>\n",
       "      <td>38</td>\n",
       "      <td>6</td>\n",
       "    </tr>\n",
       "    <tr>\n",
       "      <th>38</th>\n",
       "      <td>39</td>\n",
       "      <td>4</td>\n",
       "    </tr>\n",
       "    <tr>\n",
       "      <th>42</th>\n",
       "      <td>40</td>\n",
       "      <td>2</td>\n",
       "    </tr>\n",
       "    <tr>\n",
       "      <th>16</th>\n",
       "      <td>41</td>\n",
       "      <td>5</td>\n",
       "    </tr>\n",
       "    <tr>\n",
       "      <th>17</th>\n",
       "      <td>42</td>\n",
       "      <td>4</td>\n",
       "    </tr>\n",
       "    <tr>\n",
       "      <th>30</th>\n",
       "      <td>43</td>\n",
       "      <td>5</td>\n",
       "    </tr>\n",
       "    <tr>\n",
       "      <th>8</th>\n",
       "      <td>44</td>\n",
       "      <td>4</td>\n",
       "    </tr>\n",
       "    <tr>\n",
       "      <th>33</th>\n",
       "      <td>45</td>\n",
       "      <td>5</td>\n",
       "    </tr>\n",
       "    <tr>\n",
       "      <th>28</th>\n",
       "      <td>46</td>\n",
       "      <td>6</td>\n",
       "    </tr>\n",
       "    <tr>\n",
       "      <th>4</th>\n",
       "      <td>47</td>\n",
       "      <td>3</td>\n",
       "    </tr>\n",
       "    <tr>\n",
       "      <th>31</th>\n",
       "      <td>48</td>\n",
       "      <td>8</td>\n",
       "    </tr>\n",
       "    <tr>\n",
       "      <th>2</th>\n",
       "      <td>49</td>\n",
       "      <td>5</td>\n",
       "    </tr>\n",
       "    <tr>\n",
       "      <th>0</th>\n",
       "      <td>50</td>\n",
       "      <td>5</td>\n",
       "    </tr>\n",
       "    <tr>\n",
       "      <th>23</th>\n",
       "      <td>52</td>\n",
       "      <td>3</td>\n",
       "    </tr>\n",
       "    <tr>\n",
       "      <th>35</th>\n",
       "      <td>53</td>\n",
       "      <td>6</td>\n",
       "    </tr>\n",
       "    <tr>\n",
       "      <th>44</th>\n",
       "      <td>54</td>\n",
       "      <td>2</td>\n",
       "    </tr>\n",
       "    <tr>\n",
       "      <th>46</th>\n",
       "      <td>55</td>\n",
       "      <td>2</td>\n",
       "    </tr>\n",
       "    <tr>\n",
       "      <th>7</th>\n",
       "      <td>56</td>\n",
       "      <td>3</td>\n",
       "    </tr>\n",
       "    <tr>\n",
       "      <th>39</th>\n",
       "      <td>57</td>\n",
       "      <td>1</td>\n",
       "    </tr>\n",
       "    <tr>\n",
       "      <th>32</th>\n",
       "      <td>58</td>\n",
       "      <td>5</td>\n",
       "    </tr>\n",
       "    <tr>\n",
       "      <th>21</th>\n",
       "      <td>59</td>\n",
       "      <td>2</td>\n",
       "    </tr>\n",
       "    <tr>\n",
       "      <th>1</th>\n",
       "      <td>60</td>\n",
       "      <td>9</td>\n",
       "    </tr>\n",
       "    <tr>\n",
       "      <th>37</th>\n",
       "      <td>61</td>\n",
       "      <td>4</td>\n",
       "    </tr>\n",
       "    <tr>\n",
       "      <th>25</th>\n",
       "      <td>62</td>\n",
       "      <td>3</td>\n",
       "    </tr>\n",
       "    <tr>\n",
       "      <th>10</th>\n",
       "      <td>63</td>\n",
       "      <td>6</td>\n",
       "    </tr>\n",
       "    <tr>\n",
       "      <th>6</th>\n",
       "      <td>64</td>\n",
       "      <td>4</td>\n",
       "    </tr>\n",
       "    <tr>\n",
       "      <th>14</th>\n",
       "      <td>65</td>\n",
       "      <td>4</td>\n",
       "    </tr>\n",
       "  </tbody>\n",
       "</table>\n",
       "</div>"
      ],
      "text/plain": [
       "    Age  Count\n",
       "26   18      8\n",
       "45   19      1\n",
       "3    20      2\n",
       "22   21      3\n",
       "34   22      5\n",
       "40   23      3\n",
       "12   24      6\n",
       "19   25      8\n",
       "41   26      5\n",
       "11   27      3\n",
       "24   28      5\n",
       "20   29      3\n",
       "27   30      6\n",
       "13   31      5\n",
       "18   32      4\n",
       "9    33      6\n",
       "5    34      5\n",
       "36   35      1\n",
       "15   36      3\n",
       "29   37      2\n",
       "43   38      6\n",
       "38   39      4\n",
       "42   40      2\n",
       "16   41      5\n",
       "17   42      4\n",
       "30   43      5\n",
       "8    44      4\n",
       "33   45      5\n",
       "28   46      6\n",
       "4    47      3\n",
       "31   48      8\n",
       "2    49      5\n",
       "0    50      5\n",
       "23   52      3\n",
       "35   53      6\n",
       "44   54      2\n",
       "46   55      2\n",
       "7    56      3\n",
       "39   57      1\n",
       "32   58      5\n",
       "21   59      2\n",
       "1    60      9\n",
       "37   61      4\n",
       "25   62      3\n",
       "10   63      6\n",
       "6    64      4\n",
       "14   65      4"
      ]
     },
     "execution_count": 4,
     "metadata": {},
     "output_type": "execute_result"
    }
   ],
   "source": [
    "# Age data distribution to dictionary\n",
    "dict_age = { int(i) :  age.tolist().count(i) for i in age }\n",
    "\n",
    "# taking dictionary & output key & values as separate lists, age_list  & count_age. \n",
    "age_list = list(dict_age.keys())\n",
    "count_age = list(dict_age.values())\n",
    "\n",
    "# Create Pandas DataFrame of Private Vehicle Distances for Review.\n",
    "data_age = {\"Age\" : age_list, \"Count\" : count_age}\n",
    "df_age =pd.DataFrame(data_age)\n",
    "df_age = df_age.sort_values(by=\"Age\")\n",
    "\n",
    "# mean age\n",
    "mean_age = age.mean()\n",
    "print(\"Mean Age = \", round(mean_age, 0))\n",
    "\n",
    "df_age"
   ]
  },
  {
   "cell_type": "markdown",
   "metadata": {},
   "source": [
    "### 3.2 Resident's Mode of Travel\n",
    "\n",
    "From the NTS, the modes of travel listed were categorised as private car - driver, private car - passenger, walk, cycle, public transport & lorry motorcycle other.\n",
    "\n",
    "For this dataset the categories for mode of travel were simplied to:\n",
    "\n",
    "- Private vehicle\n",
    "- Public transport\n",
    "- Cycle\n",
    "- Walk\n",
    "\n",
    "<img src=\"https://github.com/PaulSweeney89/ProgDA-Project2020/blob/main/Images/modes%20of%20transport.PNG?raw=true\" width=\"500\" />\n",
    "\n",
    "**Figure 2** - Galway Transport Strategy Report [5] - Percentage share of each mode of travel. \n",
    "\n",
    "<img src=\"https://github.com/PaulSweeney89/ProgDA-Project2020/blob/main/Images/NTS%20mode%20of%20Travel.PNG?raw=true\" width=\"1000\" />\n",
    "\n",
    "**Figure 3** - National Travel Survey [6] - Percentage share of each mode of travel. \n",
    "\n",
    "From the Galway Transport Strategy Report, it can be seen that the levels of cycling & public transport are very low with a large dependence of private vehicles\n",
    "The National Travel Survey shows similar figures however with less reliance on private vehicles in the densely populated areas, where there is more of an uptake in the use of cycling & public transport as a means of travel.\n",
    "\n",
    "For the purpose of this project and to produce a more rounded & interesting dataset from which some observations can be made these percentage share values of mode of transport will be adjusted."
   ]
  },
  {
   "cell_type": "markdown",
   "metadata": {},
   "source": [
    "### 3.3 Mode of Travel - Adjusted for Age Groups\n",
    "\n",
    "Rather than developing a dataset which divides the modes of travel over the full range of ages (18 - 65 year olds), the below function has been used to proportion the modes of travel differently between each age groups (18-24, 25-45 etc.). This should result in producing a datset from which some clear observations can be made, e.g 18 - 24 year olds tend to travel more by public transport, bicycle or walking compared to other age groups etc. "
   ]
  },
  {
   "cell_type": "code",
   "execution_count": 5,
   "metadata": {},
   "outputs": [],
   "source": [
    "def mot(age_list):\n",
    "    '''Function to determine mode of \n",
    "    transport based on age group'''\n",
    "    \n",
    "    m = ['private vehicle', 'public transport', 'cycle', 'walk']\n",
    "    mode = []\n",
    "\n",
    "# percentage split between modes of travel - 'private vehicle', 'public transport', 'cycle', 'walk'.\n",
    "# probabilities adjusted per age group.\n",
    "\n",
    "    for val in age_list:\n",
    "        \n",
    "        if val in range(18, 25):\n",
    "            w = np.random.choice(m, p=[0.1, 0.23, 0.30, 0.37])\n",
    "            mode.append(w)\n",
    "            \n",
    "        elif val in range(25, 45):\n",
    "            x = np.random.choice(m, p=[0.82, 0.08, 0.05, 0.05])\n",
    "            mode.append(x)\n",
    "            \n",
    "        elif val in range(45, 60):\n",
    "            y = np.random.choice(m, p=[0.82, 0.09, 0.04, 0.05])\n",
    "            mode.append(y)\n",
    "\n",
    "        else:\n",
    "            z = np.random.choice(m, p=[0.65, 0.12, 0.05, 0.18])\n",
    "            mode.append(z)\n",
    "    \n",
    "    return mode"
   ]
  },
  {
   "cell_type": "code",
   "execution_count": 6,
   "metadata": {},
   "outputs": [
    {
     "name": "stdout",
     "output_type": "stream",
     "text": [
      "Mode of Travel Count = 145 Private Vehicles   19 Public Transport   16 Cyclists   20 Walkers\n"
     ]
    },
    {
     "data": {
      "image/png": "[encoded data removed]",
      "text/plain": [
       "<Figure size 720x504 with 1 Axes>"
      ]
     },
     "metadata": {},
     "output_type": "display_data"
    }
   ],
   "source": [
    "# Modes of transport for range of age groups\n",
    "mode = mot(age)\n",
    "\n",
    "# labels for mode of travel\n",
    "m = ['private vehicle', 'public transport', 'cycle', 'walk']\n",
    "\n",
    "drivers = mode.count('private vehicle')\n",
    "passengers = mode.count('public transport')\n",
    "cyclists = mode.count('cycle')\n",
    "walkers = mode.count('walk')\n",
    "\n",
    "print(\"Mode of Travel Count =\", drivers, \"Private Vehicles\", \" \", passengers, \"Public Transport\", \" \", cyclists, \"Cyclists\", \" \", walkers, \"Walkers\")\n",
    "\n",
    "# Output count list as 'c'.\n",
    "c = [drivers] + [passengers] + [cyclists] + [walkers]\n",
    "\n",
    "# Pie chart of randomly generated split between modes of travel. \n",
    "plt.pie(c, labels=m, explode = (0.1, 0.1, 0.1, 0.1), shadow=True, autopct='%1.1f%%')\n",
    "plt.title(\"Modes of Travel\")\n",
    "plt.show()"
   ]
  },
  {
   "cell_type": "markdown",
   "metadata": {},
   "source": [
    "### 3.4 Generate Journey Distances for Various 'Modes of Travel'\n",
    "\n",
    "From the National Travel Survey, the average journey distance in 2019 was found to be 13.7 kilometres on average and took 23.3 minutes to complete. \n",
    "\n",
    "<img src=\"https://github.com/PaulSweeney89/ProgDA-Project2020/blob/main/Images/NTS%20Travel%20Distances.PNG?raw=true\" width=\"1000\" />\n",
    "\n",
    "**Figure 4** - National Travel Survey [7] - Percentage distribution of Journey Distances (km).\n",
    "\n",
    "To develop distance data, different distribution shapes were used to randomly generate values for each of the various modes of travel. "
   ]
  },
  {
   "cell_type": "markdown",
   "metadata": {},
   "source": [
    "#### Private Vehicles Journey Distances\n",
    "\n",
    "Galway city is approx. 10km wide, that is from the outskirts of the west side of the city to the outskirts of the east of the city is approximately 10km as the crow flies. \n",
    "\n",
    "The NTS 2019 found the average journey distance to be 13.7km, for the purpose of this project & the development of the dataset it would seem appropriate to use this same value as the mean journey distance for private vehicles in Galway City.\n",
    "\n",
    "Also due to the relatively narrow width of Galway City, it will be assumed that there will be more shorter journeys made by residents within the city boundaries and less longer journeys made from outside the city boundaries, therefore the distribution shape of the data should reflect this as best as possible.\n",
    "\n",
    "The Gamma distribution shape was chosen to generate the journey distances as it will provide a good representation of the point mentioned above."
   ]
  },
  {
   "cell_type": "code",
   "execution_count": 7,
   "metadata": {
    "scrolled": false
   },
   "outputs": [
    {
     "data": {
      "image/png": "[encoded data removed]",
      "text/plain": [
       "<Figure size 720x504 with 1 Axes>"
      ]
     },
     "metadata": {},
     "output_type": "display_data"
    }
   ],
   "source": [
    "# Journey distances for private vehicles\n",
    "d_pv = np.random.gamma(shape=13.7, scale=1.0, size=drivers)\n",
    "\n",
    "# Round distances to nearest km\n",
    "jd_pv = np.round(d_pv, 0)\n",
    "\n",
    "# Output distribution plot\n",
    "sns.distplot(jd_pv, bins=10, kde=False, hist_kws=dict(edgecolor=\"grey\", linewidth=1))\n",
    "\n",
    "plt.title(\"Distribution Plot for Private Vehicle Distances\")\n",
    "plt.show()"
   ]
  },
  {
   "cell_type": "markdown",
   "metadata": {},
   "source": [
    "#### Private Vehicles Journey Distances Distribution Output\n",
    "\n",
    "Pandas DataFrame output of the Gama Distributed values generated for private vehicle journey distances."
   ]
  },
  {
   "cell_type": "code",
   "execution_count": 8,
   "metadata": {},
   "outputs": [
    {
     "name": "stdout",
     "output_type": "stream",
     "text": [
      "Mean Distance for Private Vehicles =  13.8\n"
     ]
    },
    {
     "data": {
      "text/html": [
       "<div>\n",
       "<style scoped>\n",
       "    .dataframe tbody tr th:only-of-type {\n",
       "        vertical-align: middle;\n",
       "    }\n",
       "\n",
       "    .dataframe tbody tr th {\n",
       "        vertical-align: top;\n",
       "    }\n",
       "\n",
       "    .dataframe thead th {\n",
       "        text-align: right;\n",
       "    }\n",
       "</style>\n",
       "<table border=\"1\" class=\"dataframe\">\n",
       "  <thead>\n",
       "    <tr style=\"text-align: right;\">\n",
       "      <th></th>\n",
       "      <th>Distance Travelled - Private Vehicle (km)</th>\n",
       "      <th>Count</th>\n",
       "    </tr>\n",
       "  </thead>\n",
       "  <tbody>\n",
       "    <tr>\n",
       "      <th>9</th>\n",
       "      <td>8</td>\n",
       "      <td>4</td>\n",
       "    </tr>\n",
       "    <tr>\n",
       "      <th>4</th>\n",
       "      <td>9</td>\n",
       "      <td>8</td>\n",
       "    </tr>\n",
       "    <tr>\n",
       "      <th>5</th>\n",
       "      <td>10</td>\n",
       "      <td>12</td>\n",
       "    </tr>\n",
       "    <tr>\n",
       "      <th>2</th>\n",
       "      <td>11</td>\n",
       "      <td>18</td>\n",
       "    </tr>\n",
       "    <tr>\n",
       "      <th>6</th>\n",
       "      <td>12</td>\n",
       "      <td>11</td>\n",
       "    </tr>\n",
       "    <tr>\n",
       "      <th>7</th>\n",
       "      <td>13</td>\n",
       "      <td>20</td>\n",
       "    </tr>\n",
       "    <tr>\n",
       "      <th>0</th>\n",
       "      <td>14</td>\n",
       "      <td>17</td>\n",
       "    </tr>\n",
       "    <tr>\n",
       "      <th>3</th>\n",
       "      <td>15</td>\n",
       "      <td>15</td>\n",
       "    </tr>\n",
       "    <tr>\n",
       "      <th>8</th>\n",
       "      <td>16</td>\n",
       "      <td>11</td>\n",
       "    </tr>\n",
       "    <tr>\n",
       "      <th>1</th>\n",
       "      <td>17</td>\n",
       "      <td>8</td>\n",
       "    </tr>\n",
       "    <tr>\n",
       "      <th>11</th>\n",
       "      <td>18</td>\n",
       "      <td>5</td>\n",
       "    </tr>\n",
       "    <tr>\n",
       "      <th>10</th>\n",
       "      <td>19</td>\n",
       "      <td>7</td>\n",
       "    </tr>\n",
       "    <tr>\n",
       "      <th>13</th>\n",
       "      <td>20</td>\n",
       "      <td>2</td>\n",
       "    </tr>\n",
       "    <tr>\n",
       "      <th>12</th>\n",
       "      <td>21</td>\n",
       "      <td>3</td>\n",
       "    </tr>\n",
       "    <tr>\n",
       "      <th>14</th>\n",
       "      <td>22</td>\n",
       "      <td>2</td>\n",
       "    </tr>\n",
       "    <tr>\n",
       "      <th>15</th>\n",
       "      <td>23</td>\n",
       "      <td>2</td>\n",
       "    </tr>\n",
       "  </tbody>\n",
       "</table>\n",
       "</div>"
      ],
      "text/plain": [
       "    Distance Travelled - Private Vehicle (km)  Count\n",
       "9                                           8      4\n",
       "4                                           9      8\n",
       "5                                          10     12\n",
       "2                                          11     18\n",
       "6                                          12     11\n",
       "7                                          13     20\n",
       "0                                          14     17\n",
       "3                                          15     15\n",
       "8                                          16     11\n",
       "1                                          17      8\n",
       "11                                         18      5\n",
       "10                                         19      7\n",
       "13                                         20      2\n",
       "12                                         21      3\n",
       "14                                         22      2\n",
       "15                                         23      2"
      ]
     },
     "execution_count": 8,
     "metadata": {},
     "output_type": "execute_result"
    }
   ],
   "source": [
    "# Distance data distribution to dictionary\n",
    "dict_dist_pv = { int(i) :  jd_pv.tolist().count(i) for i in jd_pv }\n",
    "\n",
    "# taking dictionary & output key & values as separate lists, dist_pv  & count_dist. \n",
    "dist_pv = list(dict_dist_pv.keys())\n",
    "count_dist_pv = list(dict_dist_pv.values())\n",
    "\n",
    "# Create Pandas DataFrame of Private Vehicle Distances for Review.\n",
    "data_dist_pv = {\"Distance Travelled - Private Vehicle (km)\" : dist_pv, \"Count\" : count_dist_pv}\n",
    "df_dist_pv =pd.DataFrame(data_dist_pv)\n",
    "df_dist_pv = df_dist_pv.sort_values(by=\"Distance Travelled - Private Vehicle (km)\")\n",
    "\n",
    "mean_d_pv = d_pv.mean()\n",
    "\n",
    "print(\"Mean Distance for Private Vehicles = \", round(mean_d_pv, 1))\n",
    "\n",
    "df_dist_pv"
   ]
  },
  {
   "cell_type": "markdown",
   "metadata": {},
   "source": [
    "#### Public Transport Journey Distances\n",
    "\n",
    "There are currently 12 public bus routes that serve Galway city and the surrounding areas, the routes serve as far as Barna, to the west of the city to Oranmore in the east. \n",
    "\n",
    "From reviewing the available bus routes info online, the average route distance for Galway city was calculated to be approximately 7km. \n",
    "\n",
    "A normal distribution plot was chosen to generate the public transport journey distances."
   ]
  },
  {
   "cell_type": "code",
   "execution_count": 9,
   "metadata": {
    "scrolled": false
   },
   "outputs": [
    {
     "data": {
      "image/png": "[encoded data removed]",
      "text/plain": [
       "<Figure size 720x504 with 1 Axes>"
      ]
     },
     "metadata": {},
     "output_type": "display_data"
    }
   ],
   "source": [
    "# Journey distances for public transport\n",
    "d_pt = np.random.normal(loc=7, scale=2, size=passengers)\n",
    "\n",
    "# Round distances to nearest km\n",
    "jd_pt = np.round(d_pt, 0)\n",
    "\n",
    "# Output distribution plot\n",
    "sns.distplot(jd_pt, bins=10, kde=False, hist_kws=dict(edgecolor=\"grey\", linewidth=1))\n",
    "plt.title(\"Distribution Plot for Public Transport Distances\")\n",
    "plt.show()"
   ]
  },
  {
   "cell_type": "markdown",
   "metadata": {},
   "source": [
    "#### Public Transport Journey Distances Distribution Output\n",
    "\n",
    "Pandas DataFrame output of the Normal Distributed values generated for public transport journey distances."
   ]
  },
  {
   "cell_type": "code",
   "execution_count": 10,
   "metadata": {},
   "outputs": [
    {
     "name": "stdout",
     "output_type": "stream",
     "text": [
      "Mean Distance for Public Transport =  7.8\n"
     ]
    },
    {
     "data": {
      "text/html": [
       "<div>\n",
       "<style scoped>\n",
       "    .dataframe tbody tr th:only-of-type {\n",
       "        vertical-align: middle;\n",
       "    }\n",
       "\n",
       "    .dataframe tbody tr th {\n",
       "        vertical-align: top;\n",
       "    }\n",
       "\n",
       "    .dataframe thead th {\n",
       "        text-align: right;\n",
       "    }\n",
       "</style>\n",
       "<table border=\"1\" class=\"dataframe\">\n",
       "  <thead>\n",
       "    <tr style=\"text-align: right;\">\n",
       "      <th></th>\n",
       "      <th>Distance Travelled - Public Transport (km)</th>\n",
       "      <th>Count</th>\n",
       "    </tr>\n",
       "  </thead>\n",
       "  <tbody>\n",
       "    <tr>\n",
       "      <th>6</th>\n",
       "      <td>3</td>\n",
       "      <td>1</td>\n",
       "    </tr>\n",
       "    <tr>\n",
       "      <th>2</th>\n",
       "      <td>6</td>\n",
       "      <td>3</td>\n",
       "    </tr>\n",
       "    <tr>\n",
       "      <th>3</th>\n",
       "      <td>7</td>\n",
       "      <td>5</td>\n",
       "    </tr>\n",
       "    <tr>\n",
       "      <th>0</th>\n",
       "      <td>8</td>\n",
       "      <td>5</td>\n",
       "    </tr>\n",
       "    <tr>\n",
       "      <th>5</th>\n",
       "      <td>9</td>\n",
       "      <td>1</td>\n",
       "    </tr>\n",
       "    <tr>\n",
       "      <th>4</th>\n",
       "      <td>10</td>\n",
       "      <td>2</td>\n",
       "    </tr>\n",
       "    <tr>\n",
       "      <th>1</th>\n",
       "      <td>11</td>\n",
       "      <td>1</td>\n",
       "    </tr>\n",
       "    <tr>\n",
       "      <th>7</th>\n",
       "      <td>14</td>\n",
       "      <td>1</td>\n",
       "    </tr>\n",
       "  </tbody>\n",
       "</table>\n",
       "</div>"
      ],
      "text/plain": [
       "   Distance Travelled - Public Transport (km)  Count\n",
       "6                                           3      1\n",
       "2                                           6      3\n",
       "3                                           7      5\n",
       "0                                           8      5\n",
       "5                                           9      1\n",
       "4                                          10      2\n",
       "1                                          11      1\n",
       "7                                          14      1"
      ]
     },
     "execution_count": 10,
     "metadata": {},
     "output_type": "execute_result"
    }
   ],
   "source": [
    "# Distance data distribution to dictionary\n",
    "dict_dist_pt = { int(i) :  jd_pt.tolist().count(i) for i in jd_pt }\n",
    "\n",
    "# taking dictionary & output key & values as separate lists, dist_pt  & count_dist_pt. \n",
    "dist_pt = list(dict_dist_pt.keys())\n",
    "count_dist_pt = list(dict_dist_pt.values())\n",
    "\n",
    "mean_d_pt = d_pt.mean()\n",
    "\n",
    "print(\"Mean Distance for Public Transport = \", round(mean_d_pt, 1))\n",
    "\n",
    "# Create Pandas DataFrame of Public Transport Distances for Review.\n",
    "data_dist_pt = {\"Distance Travelled - Public Transport (km)\" : dist_pt, \"Count\" : count_dist_pt}\n",
    "df_dist_pt =pd.DataFrame(data_dist_pt)\n",
    "df_dist_pt = df_dist_pt.sort_values(by=\"Distance Travelled - Public Transport (km)\")\n",
    "df_dist_pt"
   ]
  },
  {
   "cell_type": "markdown",
   "metadata": {},
   "source": [
    "#### Cycling Journey Distances\n",
    "\n",
    "The NTS 2019 found the average typical journey by bicycle to be 9.5km, this value will be used used to generate the distribution of values for journey distances for cycling.\n",
    "\n",
    "As it would be expected that more cycling journeys with a distance less than this value would be taken within Galway City, therefore a triangular distribution shape would seem like suitable distriubtion shape to use."
   ]
  },
  {
   "cell_type": "code",
   "execution_count": 11,
   "metadata": {
    "scrolled": false
   },
   "outputs": [
    {
     "data": {
      "image/png": "[encoded data removed]",
      "text/plain": [
       "<Figure size 720x504 with 1 Axes>"
      ]
     },
     "metadata": {},
     "output_type": "display_data"
    }
   ],
   "source": [
    "# Journey distances for cyclists\n",
    "d_cyc = np.random.triangular(left=2, mode=9.5, right=11, size=cyclists)\n",
    "\n",
    "# Round distances to nearest km\n",
    "jd_cyc = np.round(d_cyc, 0)\n",
    "\n",
    "# Output distribution plot\n",
    "sns.distplot(d_cyc, bins=10, kde=False, hist_kws=dict(edgecolor=\"grey\", linewidth=1))\n",
    "plt.title(\"Distribution Plot for Cycling Distances\")\n",
    "plt.show()"
   ]
  },
  {
   "cell_type": "markdown",
   "metadata": {},
   "source": [
    "#### Cycling Journey Distances Distribution Output\n",
    "\n",
    "Pandas DataFrame output of the Triangular Distributed values generated for cycling journey distances."
   ]
  },
  {
   "cell_type": "code",
   "execution_count": 12,
   "metadata": {},
   "outputs": [
    {
     "name": "stdout",
     "output_type": "stream",
     "text": [
      "Mean Distance for Cycling =  6.9\n"
     ]
    },
    {
     "data": {
      "text/html": [
       "<div>\n",
       "<style scoped>\n",
       "    .dataframe tbody tr th:only-of-type {\n",
       "        vertical-align: middle;\n",
       "    }\n",
       "\n",
       "    .dataframe tbody tr th {\n",
       "        vertical-align: top;\n",
       "    }\n",
       "\n",
       "    .dataframe thead th {\n",
       "        text-align: right;\n",
       "    }\n",
       "</style>\n",
       "<table border=\"1\" class=\"dataframe\">\n",
       "  <thead>\n",
       "    <tr style=\"text-align: right;\">\n",
       "      <th></th>\n",
       "      <th>Distance Travelled - Cycling (km)</th>\n",
       "      <th>Count</th>\n",
       "    </tr>\n",
       "  </thead>\n",
       "  <tbody>\n",
       "    <tr>\n",
       "      <th>0</th>\n",
       "      <td>4</td>\n",
       "      <td>2</td>\n",
       "    </tr>\n",
       "    <tr>\n",
       "      <th>2</th>\n",
       "      <td>5</td>\n",
       "      <td>4</td>\n",
       "    </tr>\n",
       "    <tr>\n",
       "      <th>4</th>\n",
       "      <td>6</td>\n",
       "      <td>2</td>\n",
       "    </tr>\n",
       "    <tr>\n",
       "      <th>1</th>\n",
       "      <td>7</td>\n",
       "      <td>2</td>\n",
       "    </tr>\n",
       "    <tr>\n",
       "      <th>5</th>\n",
       "      <td>9</td>\n",
       "      <td>4</td>\n",
       "    </tr>\n",
       "    <tr>\n",
       "      <th>3</th>\n",
       "      <td>10</td>\n",
       "      <td>2</td>\n",
       "    </tr>\n",
       "  </tbody>\n",
       "</table>\n",
       "</div>"
      ],
      "text/plain": [
       "   Distance Travelled - Cycling (km)  Count\n",
       "0                                  4      2\n",
       "2                                  5      4\n",
       "4                                  6      2\n",
       "1                                  7      2\n",
       "5                                  9      4\n",
       "3                                 10      2"
      ]
     },
     "execution_count": 12,
     "metadata": {},
     "output_type": "execute_result"
    }
   ],
   "source": [
    "# Distance data distribution to dictionary\n",
    "dict_dist_cyc = { int(i) :  jd_cyc.tolist().count(i) for i in jd_cyc }\n",
    "\n",
    "# taking dictionary & output key & values as separate lists, dist_cyc  & count_dist_cyc. \n",
    "dist_cyc = list(dict_dist_cyc.keys())\n",
    "count_dist_cyc = list(dict_dist_cyc.values())\n",
    "\n",
    "# mean distance\n",
    "mean_d_cyc = d_cyc.mean()\n",
    "print(\"Mean Distance for Cycling = \", round(mean_d_cyc, 1))\n",
    "\n",
    "# Create Pandas DataFrame of Cycling Distances for Review.\n",
    "data_dist_cyc = {\"Distance Travelled - Cycling (km)\" : dist_cyc, \"Count\" : count_dist_cyc}\n",
    "df_dist_cyc =pd.DataFrame(data_dist_cyc)\n",
    "df_dist_cyc = df_dist_cyc.sort_values(by=\"Distance Travelled - Cycling (km)\")\n",
    "df_dist_cyc"
   ]
  },
  {
   "cell_type": "markdown",
   "metadata": {},
   "source": [
    "#### Walking Journey Distances\n",
    "\n",
    "The NTS 2019 found the average typical journey by foot to be 3.3km. As with the triangular distribution used to generate the cycling distances, it would be expected that walking would follow a similar shape, with the more walking journeys with distance less than the mean occurring in Galway City."
   ]
  },
  {
   "cell_type": "code",
   "execution_count": 13,
   "metadata": {
    "scrolled": false
   },
   "outputs": [
    {
     "data": {
      "image/png": "[encoded data removed]",
      "text/plain": [
       "<Figure size 720x504 with 1 Axes>"
      ]
     },
     "metadata": {},
     "output_type": "display_data"
    }
   ],
   "source": [
    "# Journey distances for walking commuters\n",
    "d_w = np.random.triangular(left=0.5, mode=3.3, right=5.0, size=walkers)\n",
    "\n",
    "# Round distances to nearest km\n",
    "jd_w = np.round(d_w, 0)\n",
    "\n",
    "# Output distribution plot\n",
    "sns.distplot(d_w, bins=10, kde=False, hist_kws=dict(edgecolor=\"grey\", linewidth=1))\n",
    "plt.title(\"Distribution Plot for Walking Distances\")\n",
    "plt.show()"
   ]
  },
  {
   "cell_type": "markdown",
   "metadata": {},
   "source": [
    "#### Walking Journey Distances Distribution Output\n",
    "\n",
    "Pandas DataFrame output of the Triangular Distributed values generated for walking journey distances."
   ]
  },
  {
   "cell_type": "code",
   "execution_count": 14,
   "metadata": {},
   "outputs": [
    {
     "name": "stdout",
     "output_type": "stream",
     "text": [
      "Mean Distance for Walking =  3.0\n"
     ]
    },
    {
     "data": {
      "text/html": [
       "<div>\n",
       "<style scoped>\n",
       "    .dataframe tbody tr th:only-of-type {\n",
       "        vertical-align: middle;\n",
       "    }\n",
       "\n",
       "    .dataframe tbody tr th {\n",
       "        vertical-align: top;\n",
       "    }\n",
       "\n",
       "    .dataframe thead th {\n",
       "        text-align: right;\n",
       "    }\n",
       "</style>\n",
       "<table border=\"1\" class=\"dataframe\">\n",
       "  <thead>\n",
       "    <tr style=\"text-align: right;\">\n",
       "      <th></th>\n",
       "      <th>Distance Travelled - Walking (km)</th>\n",
       "      <th>Count</th>\n",
       "    </tr>\n",
       "  </thead>\n",
       "  <tbody>\n",
       "    <tr>\n",
       "      <th>3</th>\n",
       "      <td>1</td>\n",
       "      <td>2</td>\n",
       "    </tr>\n",
       "    <tr>\n",
       "      <th>1</th>\n",
       "      <td>2</td>\n",
       "      <td>4</td>\n",
       "    </tr>\n",
       "    <tr>\n",
       "      <th>2</th>\n",
       "      <td>3</td>\n",
       "      <td>10</td>\n",
       "    </tr>\n",
       "    <tr>\n",
       "      <th>0</th>\n",
       "      <td>4</td>\n",
       "      <td>3</td>\n",
       "    </tr>\n",
       "    <tr>\n",
       "      <th>4</th>\n",
       "      <td>5</td>\n",
       "      <td>1</td>\n",
       "    </tr>\n",
       "  </tbody>\n",
       "</table>\n",
       "</div>"
      ],
      "text/plain": [
       "   Distance Travelled - Walking (km)  Count\n",
       "3                                  1      2\n",
       "1                                  2      4\n",
       "2                                  3     10\n",
       "0                                  4      3\n",
       "4                                  5      1"
      ]
     },
     "execution_count": 14,
     "metadata": {},
     "output_type": "execute_result"
    }
   ],
   "source": [
    "# Distance data distribution to dictionary\n",
    "dict_dist_w = { int(i) :  jd_w.tolist().count(i) for i in jd_w }\n",
    "\n",
    "# taking dictionary & output key & values as separate lists, dist_w  & count_dist_w. \n",
    "dist_w = list(dict_dist_w.keys())\n",
    "count_dist_w = list(dict_dist_w.values())\n",
    "\n",
    "# mean distance\n",
    "mean_d_w = d_w.mean()\n",
    "print(\"Mean Distance for Walking = \", round(mean_d_w, 1))\n",
    "\n",
    "# Create Pandas DataFrame of Walking Distances for Review.\n",
    "data_dist_w = {\"Distance Travelled - Walking (km)\" : dist_w, \"Count\" : count_dist_w}\n",
    "df_dist_w =pd.DataFrame(data_dist_w)\n",
    "df_dist_w = df_dist_w.sort_values(by=\"Distance Travelled - Walking (km)\")\n",
    "df_dist_w"
   ]
  },
  {
   "cell_type": "markdown",
   "metadata": {},
   "source": [
    "### 3.5 Generate Journey Times for Various 'Modes of Travel'\n",
    "\n",
    "To generate the journey travel times for each mode of travel, the journey distance data generated above were divided by the average speed of the journey for that mode of travel. \n",
    "\n",
    "To produce a dataset which doesn't appear too linear or consistent and accounts of some varience in journey times i.e traffic delays etc., the average speed used to calculate the journey times was randomly adjusted by a few +/- km/hour for the different mode of travel.\n",
    "\n",
    "$$ Time (mins) = \\frac{Distance (km)}{Speed (km/hour)} \\hspace{1cm} x \\hspace{1cm} 60mins $$\n",
    "\n",
    "**Average travel speeds per mode of travel within Galway City:**\n",
    "\n",
    "Private vehicle = 30km/hr\n",
    "\n",
    "Public Transport = 30km/hr\n",
    "\n",
    "Cycling = 20km/hr\n",
    "\n",
    "Walking = 5km/hr"
   ]
  },
  {
   "cell_type": "code",
   "execution_count": 15,
   "metadata": {
    "scrolled": false
   },
   "outputs": [
    {
     "data": {
      "image/png": "[encoded data removed]",
      "text/plain": [
       "<Figure size 720x504 with 1 Axes>"
      ]
     },
     "metadata": {},
     "output_type": "display_data"
    }
   ],
   "source": [
    "# Journey times for private vehicles\n",
    "\n",
    "# account for variance in private vehicles speed by randomly adjusting speed by +/- 5km/hr\n",
    "jt_pv = []\n",
    "for i, j in enumerate(jd_pv):\n",
    "    time_calc = round((j / (30 + np.random.randint(-5, 6))) * 60, 0)\n",
    "    jt_pv.append(time_calc)\n",
    "    \n",
    "# Output distance vs time scatter plot\n",
    "sns.scatterplot(jt_pv, jd_pv)\n",
    "plt.title(\"Private Vehicle - Travel Time vs Travel Distance\")\n",
    "plt.show()"
   ]
  },
  {
   "cell_type": "code",
   "execution_count": 16,
   "metadata": {},
   "outputs": [
    {
     "data": {
      "image/png": "[encoded data removed]",
      "text/plain": [
       "<Figure size 720x504 with 1 Axes>"
      ]
     },
     "metadata": {},
     "output_type": "display_data"
    }
   ],
   "source": [
    "# Journey times for public transport\n",
    "\n",
    "# account for variance in cycling speed by randomly adjusting speed by +/- 5km/hr\n",
    "jt_pt = []\n",
    "for i, j in enumerate(jd_pt):\n",
    "    time_calc = round((j / (30 + np.random.randint(-5, 6))) * 60, 0)\n",
    "    jt_pt.append(time_calc)\n",
    "    \n",
    "# Output distance vs time scatter plot\n",
    "sns.scatterplot(jt_pt, jd_pt)\n",
    "plt.title(\"Public Transport - Travel Time vs Travel Distance\")\n",
    "plt.show()"
   ]
  },
  {
   "cell_type": "code",
   "execution_count": 17,
   "metadata": {
    "scrolled": false
   },
   "outputs": [
    {
     "data": {
      "image/png": "[encoded data removed]",
      "text/plain": [
       "<Figure size 720x504 with 1 Axes>"
      ]
     },
     "metadata": {},
     "output_type": "display_data"
    }
   ],
   "source": [
    "# Journey times for cycling\n",
    "\n",
    "# account for variance in cycling speed by randomly adjusting speed by +/- 5km/hr\n",
    "jt_cyc = []\n",
    "for i, j in enumerate(jd_cyc):\n",
    "    time_calc = round((j / (20 + np.random.randint(-5, 6))) * 60, 0)\n",
    "    jt_cyc.append(time_calc)\n",
    "    \n",
    "# Output distance vs time scatter plot\n",
    "sns.scatterplot(jt_cyc, jd_cyc)\n",
    "plt.title(\"Cycling - Time vs Distance\")\n",
    "plt.show()"
   ]
  },
  {
   "cell_type": "code",
   "execution_count": 18,
   "metadata": {
    "scrolled": false
   },
   "outputs": [
    {
     "data": {
      "image/png": "[encoded data removed]",
      "text/plain": [
       "<Figure size 720x504 with 1 Axes>"
      ]
     },
     "metadata": {},
     "output_type": "display_data"
    }
   ],
   "source": [
    "# Journey times for walking\n",
    "\n",
    "# account for variance in walking speed by randomly adjusting speed by +/- 1km/hr\n",
    "jt_w = []\n",
    "for i, j in enumerate(jd_w):\n",
    "    time_calc = round((j / (5 + np.random.randint(-1, 2))) * 60, 0)\n",
    "    jt_w.append(time_calc)\n",
    "    \n",
    "# Output distance vs time scatter plot\n",
    "sns.scatterplot(jt_w, jd_w)\n",
    "plt.title(\"Walking - Time vs Distance\")\n",
    "plt.show()"
   ]
  },
  {
   "cell_type": "markdown",
   "metadata": {},
   "source": [
    "## 3.6 Generate 'Hour of Departure' for Journeys \n",
    "\n",
    "The Galway Transport Strategy Report includes the traffic volumes & peak times profile for a typical 24 hour weekday period, which was found to follow a similar profile to that seen nationally i.e highest concentration of tripss occuring between 8am to 9am & 5pm to 6pm. \n",
    "\n",
    "![GTS Map](https://github.com/PaulSweeney89/ProgDA-Project2020/blob/main/Images/Hour%20of%20Departure.PNG?raw=true)\n",
    "\n",
    "**Figure 3** - Galway Transport Strategy Report [5] - Profile of Trip Demand Through the Weekday. \n",
    "\n",
    "For the purpose of this project, the trip 'Hour of Departure' times will be included within the dataset. The value of times will given to the nearest hour and the distribution of times will very loosely follow the above profile. \n",
    "Note that the percentages & distribution of values within the given time ranges were estimated, by reading directly from the profile."
   ]
  },
  {
   "cell_type": "code",
   "execution_count": 90,
   "metadata": {},
   "outputs": [],
   "source": [
    "# Create array of intergers for 'Hour of Departure' (01:00 to 24:00, 24 hour clock)\n",
    "# note intergers multiplied x 10,000 in order to include date within the datetime object\n",
    "\n",
    "# Hour of Departure range distributions\n",
    "# 00:00 to 04:00 = 2%, 05:00 to 09:00 = 28%, 10:00 to 16:00 = 40%, 17:00 to 23:00 = 30%\n",
    "d0, d5, d10, d17 = int(sample_size*0.02), int(sample_size*0.28), int(sample_size*0.40), int(sample_size*0.3)\n",
    "\n",
    "# Hour of Departure range 00:00 to 04:00\n",
    "t0 = np.random.randint(low=0, high=5, size=d0) * 10000\n",
    "\n",
    "# Hour of Departure range 05:00 to 09:00\n",
    "t5 = np.random.triangular(left=5, mode=8, right=10, size=d5)\n",
    "t5 = np.round(t5, 0) * 10000\n",
    "\n",
    "# Hour of Departure range 10:00 to 16:00\n",
    "t10 = np.random.uniform(low=10, high=17, size=d10)\n",
    "t10 = np.round(t10, 0) * 10000\n",
    "\n",
    "# Hour of Departure range 17:00 to 23:00\n",
    "t17 = np.random.triangular(left=16, mode=17.5, right=24, size=d17)\n",
    "t17 = np.round(t17, 0) * 10000\n",
    "\n",
    "# Combine all arrays into single times array\n",
    "times = np.concatenate((t0, t5, t10, t17))\n",
    "\n",
    "# date taken as 07.10.2019 which is the date of the national transport survey (October 7th 2019 – January 5th 2020)\n",
    "# date expressed as an interger\n",
    "date = 20191007000000\n",
    "\n",
    "# date with time expressed as an interger\n",
    "dt = date + times\n",
    "\n",
    "# change from intergers to datetime \n",
    "dt = pd.to_datetime(dt, format = '%Y%m%d%H%M%S')\n",
    "\n",
    "# Output hours for inclusion in main dataset\n",
    "hours = dt.hour"
   ]
  },
  {
   "cell_type": "code",
   "execution_count": 91,
   "metadata": {},
   "outputs": [],
   "source": [
    "# Hour of Departure distribution to dictionary\n",
    "dict_hours = { int(i) :  hours.tolist().count(i) for i in hours }\n",
    "\n",
    "# taking dictionary & output key & values as separate lists, dist_w  & count_dist_w. \n",
    "h = list(dict_hours.keys())\n",
    "count_h = list(dict_hours.values())"
   ]
  },
  {
   "cell_type": "code",
   "execution_count": 92,
   "metadata": {},
   "outputs": [
    {
     "data": {
      "text/html": [
       "<div>\n",
       "<style scoped>\n",
       "    .dataframe tbody tr th:only-of-type {\n",
       "        vertical-align: middle;\n",
       "    }\n",
       "\n",
       "    .dataframe tbody tr th {\n",
       "        vertical-align: top;\n",
       "    }\n",
       "\n",
       "    .dataframe thead th {\n",
       "        text-align: right;\n",
       "    }\n",
       "</style>\n",
       "<table border=\"1\" class=\"dataframe\">\n",
       "  <thead>\n",
       "    <tr style=\"text-align: right;\">\n",
       "      <th></th>\n",
       "      <th>Hour</th>\n",
       "      <th>Count</th>\n",
       "    </tr>\n",
       "  </thead>\n",
       "  <tbody>\n",
       "    <tr>\n",
       "      <th>0</th>\n",
       "      <td>2</td>\n",
       "      <td>2</td>\n",
       "    </tr>\n",
       "    <tr>\n",
       "      <th>1</th>\n",
       "      <td>4</td>\n",
       "      <td>2</td>\n",
       "    </tr>\n",
       "    <tr>\n",
       "      <th>2</th>\n",
       "      <td>6</td>\n",
       "      <td>5</td>\n",
       "    </tr>\n",
       "    <tr>\n",
       "      <th>5</th>\n",
       "      <td>7</td>\n",
       "      <td>24</td>\n",
       "    </tr>\n",
       "    <tr>\n",
       "      <th>4</th>\n",
       "      <td>8</td>\n",
       "      <td>14</td>\n",
       "    </tr>\n",
       "    <tr>\n",
       "      <th>6</th>\n",
       "      <td>9</td>\n",
       "      <td>12</td>\n",
       "    </tr>\n",
       "    <tr>\n",
       "      <th>3</th>\n",
       "      <td>10</td>\n",
       "      <td>10</td>\n",
       "    </tr>\n",
       "    <tr>\n",
       "      <th>11</th>\n",
       "      <td>11</td>\n",
       "      <td>16</td>\n",
       "    </tr>\n",
       "    <tr>\n",
       "      <th>13</th>\n",
       "      <td>12</td>\n",
       "      <td>9</td>\n",
       "    </tr>\n",
       "    <tr>\n",
       "      <th>9</th>\n",
       "      <td>13</td>\n",
       "      <td>10</td>\n",
       "    </tr>\n",
       "    <tr>\n",
       "      <th>12</th>\n",
       "      <td>14</td>\n",
       "      <td>6</td>\n",
       "    </tr>\n",
       "    <tr>\n",
       "      <th>7</th>\n",
       "      <td>15</td>\n",
       "      <td>10</td>\n",
       "    </tr>\n",
       "    <tr>\n",
       "      <th>10</th>\n",
       "      <td>16</td>\n",
       "      <td>11</td>\n",
       "    </tr>\n",
       "    <tr>\n",
       "      <th>8</th>\n",
       "      <td>17</td>\n",
       "      <td>17</td>\n",
       "    </tr>\n",
       "    <tr>\n",
       "      <th>16</th>\n",
       "      <td>18</td>\n",
       "      <td>15</td>\n",
       "    </tr>\n",
       "    <tr>\n",
       "      <th>15</th>\n",
       "      <td>19</td>\n",
       "      <td>10</td>\n",
       "    </tr>\n",
       "    <tr>\n",
       "      <th>14</th>\n",
       "      <td>20</td>\n",
       "      <td>13</td>\n",
       "    </tr>\n",
       "    <tr>\n",
       "      <th>19</th>\n",
       "      <td>21</td>\n",
       "      <td>6</td>\n",
       "    </tr>\n",
       "    <tr>\n",
       "      <th>17</th>\n",
       "      <td>22</td>\n",
       "      <td>6</td>\n",
       "    </tr>\n",
       "    <tr>\n",
       "      <th>18</th>\n",
       "      <td>23</td>\n",
       "      <td>2</td>\n",
       "    </tr>\n",
       "  </tbody>\n",
       "</table>\n",
       "</div>"
      ],
      "text/plain": [
       "    Hour  Count\n",
       "0      2      2\n",
       "1      4      2\n",
       "2      6      5\n",
       "5      7     24\n",
       "4      8     14\n",
       "6      9     12\n",
       "3     10     10\n",
       "11    11     16\n",
       "13    12      9\n",
       "9     13     10\n",
       "12    14      6\n",
       "7     15     10\n",
       "10    16     11\n",
       "8     17     17\n",
       "16    18     15\n",
       "15    19     10\n",
       "14    20     13\n",
       "19    21      6\n",
       "17    22      6\n",
       "18    23      2"
      ]
     },
     "execution_count": 92,
     "metadata": {},
     "output_type": "execute_result"
    }
   ],
   "source": [
    "# Create Pandas DataFrame of Hours of Departure for Review.\n",
    "data_hours = {\"Hour\" : h, \"Count\" : count_h}\n",
    "df_hours=pd.DataFrame(data_hours)\n",
    "df_hours = df_hours.sort_values(by=\"Hour\")\n",
    "df_hours"
   ]
  },
  {
   "cell_type": "code",
   "execution_count": 93,
   "metadata": {},
   "outputs": [
    {
     "data": {
      "image/png": "[encoded data removed]",
      "text/plain": [
       "<Figure size 720x504 with 1 Axes>"
      ]
     },
     "metadata": {},
     "output_type": "display_data"
    }
   ],
   "source": [
    "sns.lineplot(x='Hour', y='Count', data=df_hours)\n",
    "plt.title(\"Hour of Departure vs Traffic Demand\")\n",
    "plt.xticks(np.arange(0, 24, 1.0));"
   ]
  },
  {
   "cell_type": "markdown",
   "metadata": {},
   "source": [
    "### 3.7 Compile Data into Pandas DataFrame"
   ]
  },
  {
   "cell_type": "code",
   "execution_count": 94,
   "metadata": {
    "scrolled": false
   },
   "outputs": [],
   "source": [
    "# Create Pandas Data Frame\n",
    "data = {'Gender': gender, 'Age': age, 'Mode of Travel' : mode, 'Journey Distance (km)': None, \n",
    "        'Journey Time (mins)': None, 'Hour of Departure' : dt.hour}\n",
    "\n",
    "df = pd.DataFrame(data)"
   ]
  },
  {
   "cell_type": "markdown",
   "metadata": {},
   "source": [
    "### 3.8 Assign Journey Distances & Times to Correct Mode of Transport"
   ]
  },
  {
   "cell_type": "code",
   "execution_count": 95,
   "metadata": {
    "scrolled": true
   },
   "outputs": [],
   "source": [
    "# Assigning generated journey times & distances to the different modes of travel\n",
    "\n",
    "df.loc[df['Mode of Travel'] == 'walk', 'Journey Distance (km)'] = jd_w\n",
    "df.loc[df['Mode of Travel'] == 'walk', 'Journey Time (mins)'] = jt_w\n",
    "\n",
    "df.loc[df['Mode of Travel'] == 'cycle', 'Journey Distance (km)'] = jd_cyc\n",
    "df.loc[df['Mode of Travel'] == 'cycle', 'Journey Time (mins)'] = jt_cyc\n",
    "\n",
    "df.loc[df['Mode of Travel'] == 'private vehicle', 'Journey Distance (km)'] = jd_pv\n",
    "df.loc[df['Mode of Travel'] == 'private vehicle', 'Journey Time (mins)'] = jt_pv\n",
    "\n",
    "df.loc[df['Mode of Travel'] == 'public transport', 'Journey Distance (km)'] = jd_pt\n",
    "df.loc[df['Mode of Travel'] == 'public transport', 'Journey Time (mins)'] = jt_pt"
   ]
  },
  {
   "cell_type": "code",
   "execution_count": 96,
   "metadata": {
    "scrolled": false
   },
   "outputs": [],
   "source": [
    "# Include age groups within the dataset.\n",
    "\n",
    "df.loc[df['Age'] < 26, 'Age Group'] = \"18 to 25\"\n",
    "df.loc[(df['Age'] > 25) & (df['Age'] < 46), 'Age Group'] = \"26 to 45\"\n",
    "df.loc[(df['Age'] > 46) & (df['Age'] < 66), 'Age Group'] = \"46 to 65\""
   ]
  },
  {
   "cell_type": "markdown",
   "metadata": {},
   "source": [
    "## 4.0 Output of Full Traffic & Transport Dataset"
   ]
  },
  {
   "cell_type": "code",
   "execution_count": 97,
   "metadata": {
    "scrolled": true
   },
   "outputs": [
    {
     "data": {
      "text/html": [
       "<div>\n",
       "<style scoped>\n",
       "    .dataframe tbody tr th:only-of-type {\n",
       "        vertical-align: middle;\n",
       "    }\n",
       "\n",
       "    .dataframe tbody tr th {\n",
       "        vertical-align: top;\n",
       "    }\n",
       "\n",
       "    .dataframe thead th {\n",
       "        text-align: right;\n",
       "    }\n",
       "</style>\n",
       "<table border=\"1\" class=\"dataframe\">\n",
       "  <thead>\n",
       "    <tr style=\"text-align: right;\">\n",
       "      <th></th>\n",
       "      <th>Gender</th>\n",
       "      <th>Age</th>\n",
       "      <th>Mode of Travel</th>\n",
       "      <th>Journey Distance (km)</th>\n",
       "      <th>Journey Time (mins)</th>\n",
       "      <th>Hour of Departure</th>\n",
       "      <th>Age Group</th>\n",
       "    </tr>\n",
       "  </thead>\n",
       "  <tbody>\n",
       "    <tr>\n",
       "      <th>187</th>\n",
       "      <td>Male</td>\n",
       "      <td>18</td>\n",
       "      <td>cycle</td>\n",
       "      <td>5</td>\n",
       "      <td>12</td>\n",
       "      <td>21</td>\n",
       "      <td>18 to 25</td>\n",
       "    </tr>\n",
       "    <tr>\n",
       "      <th>141</th>\n",
       "      <td>Male</td>\n",
       "      <td>18</td>\n",
       "      <td>cycle</td>\n",
       "      <td>4</td>\n",
       "      <td>16</td>\n",
       "      <td>19</td>\n",
       "      <td>18 to 25</td>\n",
       "    </tr>\n",
       "    <tr>\n",
       "      <th>70</th>\n",
       "      <td>Female</td>\n",
       "      <td>18</td>\n",
       "      <td>cycle</td>\n",
       "      <td>6</td>\n",
       "      <td>14</td>\n",
       "      <td>14</td>\n",
       "      <td>18 to 25</td>\n",
       "    </tr>\n",
       "    <tr>\n",
       "      <th>128</th>\n",
       "      <td>Female</td>\n",
       "      <td>18</td>\n",
       "      <td>cycle</td>\n",
       "      <td>5</td>\n",
       "      <td>19</td>\n",
       "      <td>11</td>\n",
       "      <td>18 to 25</td>\n",
       "    </tr>\n",
       "    <tr>\n",
       "      <th>31</th>\n",
       "      <td>Male</td>\n",
       "      <td>18</td>\n",
       "      <td>public transport</td>\n",
       "      <td>6</td>\n",
       "      <td>10</td>\n",
       "      <td>7</td>\n",
       "      <td>18 to 25</td>\n",
       "    </tr>\n",
       "    <tr>\n",
       "      <th>...</th>\n",
       "      <td>...</td>\n",
       "      <td>...</td>\n",
       "      <td>...</td>\n",
       "      <td>...</td>\n",
       "      <td>...</td>\n",
       "      <td>...</td>\n",
       "      <td>...</td>\n",
       "    </tr>\n",
       "    <tr>\n",
       "      <th>7</th>\n",
       "      <td>Male</td>\n",
       "      <td>64</td>\n",
       "      <td>walk</td>\n",
       "      <td>3</td>\n",
       "      <td>30</td>\n",
       "      <td>7</td>\n",
       "      <td>46 to 65</td>\n",
       "    </tr>\n",
       "    <tr>\n",
       "      <th>157</th>\n",
       "      <td>Male</td>\n",
       "      <td>65</td>\n",
       "      <td>walk</td>\n",
       "      <td>1</td>\n",
       "      <td>12</td>\n",
       "      <td>19</td>\n",
       "      <td>46 to 65</td>\n",
       "    </tr>\n",
       "    <tr>\n",
       "      <th>163</th>\n",
       "      <td>Male</td>\n",
       "      <td>65</td>\n",
       "      <td>private vehicle</td>\n",
       "      <td>11</td>\n",
       "      <td>26</td>\n",
       "      <td>23</td>\n",
       "      <td>46 to 65</td>\n",
       "    </tr>\n",
       "    <tr>\n",
       "      <th>17</th>\n",
       "      <td>Male</td>\n",
       "      <td>65</td>\n",
       "      <td>private vehicle</td>\n",
       "      <td>10</td>\n",
       "      <td>19</td>\n",
       "      <td>7</td>\n",
       "      <td>46 to 65</td>\n",
       "    </tr>\n",
       "    <tr>\n",
       "      <th>146</th>\n",
       "      <td>Female</td>\n",
       "      <td>65</td>\n",
       "      <td>private vehicle</td>\n",
       "      <td>10</td>\n",
       "      <td>18</td>\n",
       "      <td>18</td>\n",
       "      <td>46 to 65</td>\n",
       "    </tr>\n",
       "  </tbody>\n",
       "</table>\n",
       "<p>200 rows × 7 columns</p>\n",
       "</div>"
      ],
      "text/plain": [
       "     Gender  Age    Mode of Travel Journey Distance (km) Journey Time (mins)  \\\n",
       "187    Male   18             cycle                     5                  12   \n",
       "141    Male   18             cycle                     4                  16   \n",
       "70   Female   18             cycle                     6                  14   \n",
       "128  Female   18             cycle                     5                  19   \n",
       "31     Male   18  public transport                     6                  10   \n",
       "..      ...  ...               ...                   ...                 ...   \n",
       "7      Male   64              walk                     3                  30   \n",
       "157    Male   65              walk                     1                  12   \n",
       "163    Male   65   private vehicle                    11                  26   \n",
       "17     Male   65   private vehicle                    10                  19   \n",
       "146  Female   65   private vehicle                    10                  18   \n",
       "\n",
       "     Hour of Departure Age Group  \n",
       "187                 21  18 to 25  \n",
       "141                 19  18 to 25  \n",
       "70                  14  18 to 25  \n",
       "128                 11  18 to 25  \n",
       "31                   7  18 to 25  \n",
       "..                 ...       ...  \n",
       "7                    7  46 to 65  \n",
       "157                 19  46 to 65  \n",
       "163                 23  46 to 65  \n",
       "17                   7  46 to 65  \n",
       "146                 18  46 to 65  \n",
       "\n",
       "[200 rows x 7 columns]"
      ]
     },
     "execution_count": 97,
     "metadata": {},
     "output_type": "execute_result"
    }
   ],
   "source": [
    "# sort dataset by Age\n",
    "df.sort_values(by='Age', ascending=True)"
   ]
  },
  {
   "cell_type": "markdown",
   "metadata": {},
   "source": [
    "## 5.0 Traffic & Transport Dataset Plots"
   ]
  },
  {
   "cell_type": "code",
   "execution_count": 98,
   "metadata": {},
   "outputs": [
    {
     "data": {
      "image/png": "[encoded data removed]",
      "text/plain": [
       "<Figure size 720x504 with 1 Axes>"
      ]
     },
     "metadata": {},
     "output_type": "display_data"
    }
   ],
   "source": [
    "sns.countplot(x=\"Mode of Travel\", data=df, hue='Gender');"
   ]
  },
  {
   "cell_type": "code",
   "execution_count": 99,
   "metadata": {},
   "outputs": [
    {
     "data": {
      "image/png": "[encoded data removed]",
      "text/plain": [
       "<Figure size 720x504 with 1 Axes>"
      ]
     },
     "metadata": {},
     "output_type": "display_data"
    }
   ],
   "source": [
    "sns.countplot(x=\"Mode of Travel\", data=df, hue='Age Group');"
   ]
  },
  {
   "cell_type": "code",
   "execution_count": 100,
   "metadata": {},
   "outputs": [
    {
     "data": {
      "image/png": "[encoded data removed]",
      "text/plain": [
       "<Figure size 720x504 with 1 Axes>"
      ]
     },
     "metadata": {},
     "output_type": "display_data"
    }
   ],
   "source": [
    "sns.scatterplot(x='Journey Distance (km)', y='Journey Time (mins)', hue='Mode of Travel', data=df);"
   ]
  },
  {
   "cell_type": "markdown",
   "metadata": {},
   "source": [
    "## Reference:\n",
    "\n",
    "[1] [Galway Transport Strategy Report](https://www.galwaycity.ie/uploads/downloads/news_items/Traffic-Transport/GTS/GTS%20Executive%20Summary%20Report%20-%20English.pdf)\n",
    "\n",
    "[2] [National Travel Survey 2019](https://www.cso.ie/en/releasesandpublications/ep/p-nts/nationaltravelsurvey2019/)\n",
    "\n",
    "[3] [Census 2016 Place of Work, School or College (POWSCAR)](https://www.cso.ie/en/census/census2011placeofworkschoolorcollege-censusofanonymisedrecordspowscar/)\n",
    "\n",
    "[4] [N6 Galway City Ring Road Design Report](http://www.pleanala.ie/publicaccess/ABP-302848-18%20-%20FI%20Response/ABP-302848-18%20-%20Volume%204%20-%20RFI%20Documentation/Volume%201%20-%20Report/ABP-302848-18%20-%20RFI%20Design%20Report%20-%20Volume%201%20-%20Main%20Report.pdf)\n",
    "\n",
    "[5] [Galway Transport Strategy Report, Appendix A - Transport Demand](https://www.galwaycity.ie/uploads/downloads/news_items/Traffic-Transport/GTS/GTS%20Appendix%20A%20Transport%20Demand.pdf)\n",
    "\n",
    "[6] [www.cso.ie, National Travel Survey 2019, How We Travelled](https://www.cso.ie/en/releasesandpublications/ep/p-nts/nationaltravelsurvey2019/howwetravelled/)\n",
    "\n",
    "[7] [www.cso.ie, National Travel Survey 2019, Distance And Duration](https://www.cso.ie/en/releasesandpublications/ep/p-nts/nationaltravelsurvey2019/distanceandduration/)"
   ]
  },
  {
   "cell_type": "code",
   "execution_count": null,
   "metadata": {},
   "outputs": [],
   "source": []
  }
 ],
 "metadata": {
  "kernelspec": {
   "display_name": "Python 3",
   "language": "python",
   "name": "python3"
  },
  "language_info": {
   "codemirror_mode": {
    "name": "ipython",
    "version": 3
   },
   "file_extension": ".py",
   "mimetype": "text/x-python",
   "name": "python",
   "nbconvert_exporter": "python",
   "pygments_lexer": "ipython3",
   "version": "3.8.3"
  }
 },
 "nbformat": 4,
 "nbformat_minor": 4
}
